{
 "cells": [
  {
   "cell_type": "code",
   "execution_count": null,
   "metadata": {},
   "outputs": [],
   "source": [
    "!python run_classifier.py \\\n",
    "    --task_name=cola \\\n",
    "    --do_train=true \\\n",
    "    --do_eval=true \\\n",
    "    --do_predict=true \\\n",
    "    --data_dir=../data/ \\\n",
    "    --vocab_file=../uncased_L-12_H-768_A-12/vocab.txt \\\n",
    "    --bert_config_file=../uncased_L-12_H-768_A-12/bert_config.json \\\n",
    "    --init_checkpoint=../uncased_L-12_H-768_A-12/bert_model.ckpt \\\n",
    "    --max_seq_length=400 \\\n",
    "    --train_batch_size=8 \\\n",
    "    --learning_rate=2e-5 \\\n",
    "    --num_train_epochs=3.0 \\\n",
    "    --output_dir=../output/ \\\n",
    "    --do_lower_case=True \\"
   ]
  }
 ],
 "metadata": {
  "kernelspec": {
   "display_name": "python 3.6",
   "language": "python",
   "name": "python3"
  },
  "language_info": {
   "codemirror_mode": {
    "name": "ipython",
    "version": 3
   },
   "file_extension": ".py",
   "mimetype": "text/x-python",
   "name": "python",
   "nbconvert_exporter": "python",
   "pygments_lexer": "ipython3",
   "version": "3.6.5"
  }
 },
 "nbformat": 4,
 "nbformat_minor": 2
}
